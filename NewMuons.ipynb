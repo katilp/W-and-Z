{
 "cells": [
  {
   "cell_type": "markdown",
   "metadata": {},
   "source": [
    "Original work by Tom McCauley in https://github.com/tpmccauley/cmsopendata-jupyter/blob/master/Wmunu.ipynb\n",
    "Pls refer to that when reusing this material, but note that the event selection to produce the dataset used here is different: there are no other cuts (on pt, eta, else) than requiring GlobalMuon."
   ]
  },
  {
   "cell_type": "code",
   "execution_count": 1,
   "metadata": {
    "collapsed": true
   },
   "outputs": [],
   "source": [
    "import pandas as pd \n",
    "#pandas is for data structures and data analysis tools\n",
    "import numpy as np\n",
    "#numpy is for scientific computing\n",
    "import matplotlib.pyplot as plt\n",
    "#matplotlib is for plotting"
   ]
  },
  {
   "cell_type": "code",
   "execution_count": 2,
   "metadata": {
    "collapsed": true
   },
   "outputs": [],
   "source": [
    "#These data have been selected from the 2011 SingleMu dataset http://opendata.cern.ch/record/32\n",
    "#Two muons and missing et have been written out to the csv file\n",
    "data = pd.read_csv('http://kati.web.cern.ch/kati/SingleMuonMet.csv')"
   ]
  },
  {
   "cell_type": "code",
   "execution_count": 3,
   "metadata": {},
   "outputs": [
    {
     "data": {
      "text/plain": [
       "457575"
      ]
     },
     "execution_count": 3,
     "metadata": {},
     "output_type": "execute_result"
    }
   ],
   "source": [
    "len(data)"
   ]
  },
  {
   "cell_type": "code",
   "execution_count": 4,
   "metadata": {},
   "outputs": [
    {
     "data": {
      "text/html": [
       "<div>\n",
       "<table border=\"1\" class=\"dataframe\">\n",
       "  <thead>\n",
       "    <tr style=\"text-align: right;\">\n",
       "      <th></th>\n",
       "      <th>Run</th>\n",
       "      <th>Event</th>\n",
       "      <th>type1</th>\n",
       "      <th>E1</th>\n",
       "      <th>px1</th>\n",
       "      <th>py1</th>\n",
       "      <th>pz1</th>\n",
       "      <th>pt1</th>\n",
       "      <th>eta1</th>\n",
       "      <th>phi1</th>\n",
       "      <th>Q1</th>\n",
       "      <th>iso1</th>\n",
       "      <th>chisq1</th>\n",
       "      <th>dxy1</th>\n",
       "      <th>type2</th>\n",
       "      <th>E2</th>\n",
       "      <th>px2</th>\n",
       "      <th>py2</th>\n",
       "      <th>pz2</th>\n",
       "      <th>pt2</th>\n",
       "      <th>eta2</th>\n",
       "      <th>phi2</th>\n",
       "      <th>Q2</th>\n",
       "      <th>iso2</th>\n",
       "      <th>chisq2</th>\n",
       "      <th>dxy2</th>\n",
       "      <th>met_et</th>\n",
       "      <th>met_phi</th>\n",
       "    </tr>\n",
       "  </thead>\n",
       "  <tbody>\n",
       "    <tr>\n",
       "      <th>0</th>\n",
       "      <td>173389</td>\n",
       "      <td>489861810</td>\n",
       "      <td>G</td>\n",
       "      <td>81.20700</td>\n",
       "      <td>-19.73920</td>\n",
       "      <td>-13.390400</td>\n",
       "      <td>77.62490</td>\n",
       "      <td>23.85240</td>\n",
       "      <td>1.895960</td>\n",
       "      <td>-2.545530</td>\n",
       "      <td>1</td>\n",
       "      <td>0.757915</td>\n",
       "      <td>0.859481</td>\n",
       "      <td>0.001574</td>\n",
       "      <td>G</td>\n",
       "      <td>0.0000</td>\n",
       "      <td>0.00000</td>\n",
       "      <td>0.00000</td>\n",
       "      <td>0.0000</td>\n",
       "      <td>0.00000</td>\n",
       "      <td>0.00000</td>\n",
       "      <td>0.00000</td>\n",
       "      <td>0.0</td>\n",
       "      <td>0.00000</td>\n",
       "      <td>0.00000</td>\n",
       "      <td>0.000000</td>\n",
       "      <td>4.87528</td>\n",
       "      <td>-1.477850</td>\n",
       "    </tr>\n",
       "    <tr>\n",
       "      <th>1</th>\n",
       "      <td>173389</td>\n",
       "      <td>489865843</td>\n",
       "      <td>G</td>\n",
       "      <td>20.89240</td>\n",
       "      <td>-14.55570</td>\n",
       "      <td>-14.942700</td>\n",
       "      <td>1.15372</td>\n",
       "      <td>20.86030</td>\n",
       "      <td>0.055279</td>\n",
       "      <td>-2.343080</td>\n",
       "      <td>1</td>\n",
       "      <td>7.996410</td>\n",
       "      <td>0.861278</td>\n",
       "      <td>0.017863</td>\n",
       "      <td>G</td>\n",
       "      <td>0.0000</td>\n",
       "      <td>0.00000</td>\n",
       "      <td>0.00000</td>\n",
       "      <td>0.0000</td>\n",
       "      <td>0.00000</td>\n",
       "      <td>0.00000</td>\n",
       "      <td>0.00000</td>\n",
       "      <td>0.0</td>\n",
       "      <td>0.00000</td>\n",
       "      <td>0.00000</td>\n",
       "      <td>0.000000</td>\n",
       "      <td>24.22140</td>\n",
       "      <td>-1.851490</td>\n",
       "    </tr>\n",
       "    <tr>\n",
       "      <th>2</th>\n",
       "      <td>173389</td>\n",
       "      <td>489914455</td>\n",
       "      <td>G</td>\n",
       "      <td>12.95950</td>\n",
       "      <td>3.13972</td>\n",
       "      <td>-3.732570</td>\n",
       "      <td>-12.00610</td>\n",
       "      <td>4.87749</td>\n",
       "      <td>-1.632850</td>\n",
       "      <td>-0.871451</td>\n",
       "      <td>-1</td>\n",
       "      <td>2.153700</td>\n",
       "      <td>0.856005</td>\n",
       "      <td>0.093071</td>\n",
       "      <td>G</td>\n",
       "      <td>0.0000</td>\n",
       "      <td>0.00000</td>\n",
       "      <td>0.00000</td>\n",
       "      <td>0.0000</td>\n",
       "      <td>0.00000</td>\n",
       "      <td>0.00000</td>\n",
       "      <td>0.00000</td>\n",
       "      <td>0.0</td>\n",
       "      <td>0.00000</td>\n",
       "      <td>0.00000</td>\n",
       "      <td>0.000000</td>\n",
       "      <td>7.47978</td>\n",
       "      <td>-1.580460</td>\n",
       "    </tr>\n",
       "    <tr>\n",
       "      <th>3</th>\n",
       "      <td>173389</td>\n",
       "      <td>489963747</td>\n",
       "      <td>G</td>\n",
       "      <td>29.63810</td>\n",
       "      <td>6.25372</td>\n",
       "      <td>28.679100</td>\n",
       "      <td>-4.09978</td>\n",
       "      <td>29.35300</td>\n",
       "      <td>-0.139221</td>\n",
       "      <td>1.356100</td>\n",
       "      <td>1</td>\n",
       "      <td>0.000000</td>\n",
       "      <td>0.845578</td>\n",
       "      <td>-0.060012</td>\n",
       "      <td>G</td>\n",
       "      <td>0.0000</td>\n",
       "      <td>0.00000</td>\n",
       "      <td>0.00000</td>\n",
       "      <td>0.0000</td>\n",
       "      <td>0.00000</td>\n",
       "      <td>0.00000</td>\n",
       "      <td>0.00000</td>\n",
       "      <td>0.0</td>\n",
       "      <td>0.00000</td>\n",
       "      <td>0.00000</td>\n",
       "      <td>0.000000</td>\n",
       "      <td>30.66700</td>\n",
       "      <td>-2.130810</td>\n",
       "    </tr>\n",
       "    <tr>\n",
       "      <th>4</th>\n",
       "      <td>173389</td>\n",
       "      <td>489925803</td>\n",
       "      <td>G</td>\n",
       "      <td>7.01111</td>\n",
       "      <td>-1.61130</td>\n",
       "      <td>0.006709</td>\n",
       "      <td>-6.82262</td>\n",
       "      <td>1.61131</td>\n",
       "      <td>-2.150000</td>\n",
       "      <td>3.137430</td>\n",
       "      <td>-1</td>\n",
       "      <td>0.643718</td>\n",
       "      <td>2.970230</td>\n",
       "      <td>-0.041494</td>\n",
       "      <td>G</td>\n",
       "      <td>11.2786</td>\n",
       "      <td>1.43852</td>\n",
       "      <td>2.48368</td>\n",
       "      <td>-10.9068</td>\n",
       "      <td>2.87019</td>\n",
       "      <td>-2.04503</td>\n",
       "      <td>1.04582</td>\n",
       "      <td>1.0</td>\n",
       "      <td>1.36497</td>\n",
       "      <td>8.03214</td>\n",
       "      <td>-0.045094</td>\n",
       "      <td>13.75300</td>\n",
       "      <td>-0.996907</td>\n",
       "    </tr>\n",
       "  </tbody>\n",
       "</table>\n",
       "</div>"
      ],
      "text/plain": [
       "      Run      Event type1        E1       px1        py1       pz1       pt1  \\\n",
       "0  173389  489861810     G  81.20700 -19.73920 -13.390400  77.62490  23.85240   \n",
       "1  173389  489865843     G  20.89240 -14.55570 -14.942700   1.15372  20.86030   \n",
       "2  173389  489914455     G  12.95950   3.13972  -3.732570 -12.00610   4.87749   \n",
       "3  173389  489963747     G  29.63810   6.25372  28.679100  -4.09978  29.35300   \n",
       "4  173389  489925803     G   7.01111  -1.61130   0.006709  -6.82262   1.61131   \n",
       "\n",
       "       eta1      phi1  Q1      iso1    chisq1      dxy1 type2       E2  \\\n",
       "0  1.895960 -2.545530   1  0.757915  0.859481  0.001574     G   0.0000   \n",
       "1  0.055279 -2.343080   1  7.996410  0.861278  0.017863     G   0.0000   \n",
       "2 -1.632850 -0.871451  -1  2.153700  0.856005  0.093071     G   0.0000   \n",
       "3 -0.139221  1.356100   1  0.000000  0.845578 -0.060012     G   0.0000   \n",
       "4 -2.150000  3.137430  -1  0.643718  2.970230 -0.041494     G  11.2786   \n",
       "\n",
       "       px2      py2      pz2      pt2     eta2     phi2   Q2     iso2  \\\n",
       "0  0.00000  0.00000   0.0000  0.00000  0.00000  0.00000  0.0  0.00000   \n",
       "1  0.00000  0.00000   0.0000  0.00000  0.00000  0.00000  0.0  0.00000   \n",
       "2  0.00000  0.00000   0.0000  0.00000  0.00000  0.00000  0.0  0.00000   \n",
       "3  0.00000  0.00000   0.0000  0.00000  0.00000  0.00000  0.0  0.00000   \n",
       "4  1.43852  2.48368 -10.9068  2.87019 -2.04503  1.04582  1.0  1.36497   \n",
       "\n",
       "    chisq2      dxy2    met_et   met_phi  \n",
       "0  0.00000  0.000000   4.87528 -1.477850  \n",
       "1  0.00000  0.000000  24.22140 -1.851490  \n",
       "2  0.00000  0.000000   7.47978 -1.580460  \n",
       "3  0.00000  0.000000  30.66700 -2.130810  \n",
       "4  8.03214 -0.045094  13.75300 -0.996907  "
      ]
     },
     "execution_count": 4,
     "metadata": {},
     "output_type": "execute_result"
    }
   ],
   "source": [
    "pd.set_option('display.max_columns', None)\n",
    "data.head()"
   ]
  },
  {
   "cell_type": "code",
   "execution_count": 5,
   "metadata": {
    "collapsed": true
   },
   "outputs": [],
   "source": [
    "mass_squared = (data.E1 + data.E2)**2 - ((data.px1 + data.px2)**2 +(data.py1 + data.py2)**2  +(data.pz1 + data.pz2)**2)\n",
    "mass_squared_pos = mass_squared[(mass_squared >0)]\n",
    "inv_mass = np.sqrt(mass_squared_pos)"
   ]
  },
  {
   "cell_type": "code",
   "execution_count": 6,
   "metadata": {
    "scrolled": true
   },
   "outputs": [
    {
     "data": {
      "image/png": "[encoded data removed]",
      "text/plain": [
       "<matplotlib.figure.Figure at 0x2546e1adc18>"
      ]
     },
     "metadata": {},
     "output_type": "display_data"
    }
   ],
   "source": [
    "#Z-boson\n",
    "plt.hist(inv_mass, bins=100, range=(80,100))\n",
    "plt.show()"
   ]
  },
  {
   "cell_type": "code",
   "execution_count": 7,
   "metadata": {},
   "outputs": [
    {
     "data": {
      "image/png": "[encoded data removed]",
      "text/plain": [
       "<matplotlib.figure.Figure at 0x2546e1ada58>"
      ]
     },
     "metadata": {},
     "output_type": "display_data"
    }
   ],
   "source": [
    "#it was verified that there are very few cases with 3 muons and therefore only two first were written out\n",
    "plt.hist(data.pt1, bins=100, range=(1,100))\n",
    "plt.hist(data.pt2, bins=100, range=(1,100))\n",
    "\n",
    "\n",
    "plt.show()"
   ]
  },
  {
   "cell_type": "code",
   "execution_count": 8,
   "metadata": {},
   "outputs": [],
   "source": [
    "#select events with one muon only\n",
    "data_25 = data[(data.pt1>25) & (np.abs(data.eta1<2.1)) & (data.pt2==0)]\n",
    "#add an additional selection on missing et\n",
    "data_met = data_25[(data_25.met_et>25)]"
   ]
  },
  {
   "cell_type": "code",
   "execution_count": 9,
   "metadata": {
    "collapsed": true
   },
   "outputs": [],
   "source": [
    "#compute the transverse mass for the W boson (decay in muon and neutrino)\n",
    "mass_t = np.sqrt(2*data.pt1*data.met_et*(1-np.cos(data.phi1-data.met_phi)))\n",
    "\n",
    "mass_t25 = np.sqrt(2*data_25.pt1*data_25.met_et*(1-np.cos(data_25.phi1-data_25.met_phi)))\n",
    "mass_met= np.sqrt(2*data_met.pt1*data_met.met_et*(1-np.cos(data_met.phi1-data_met.met_phi)))\n",
    "\n"
   ]
  },
  {
   "cell_type": "code",
   "execution_count": 10,
   "metadata": {},
   "outputs": [
    {
     "data": {
      "image/png": "[encoded data removed]",
      "text/plain": [
       "<matplotlib.figure.Figure at 0x254029659e8>"
      ]
     },
     "metadata": {},
     "output_type": "display_data"
    }
   ],
   "source": [
    "plt.hist(mass_t, bins=50, range=(30,100))\n",
    "plt.hist(mass_t25, bins=50, range=(30,100))\n",
    "plt.hist(mass_met, bins=50, range=(30,100))\n",
    "\n",
    "\n",
    "plt.show()"
   ]
  },
  {
   "cell_type": "code",
   "execution_count": 11,
   "metadata": {},
   "outputs": [
    {
     "data": {
      "image/png": "[encoded data removed]",
      "text/plain": [
       "<matplotlib.figure.Figure at 0x25402921d68>"
      ]
     },
     "metadata": {},
     "output_type": "display_data"
    }
   ],
   "source": [
    "#look at the isolation variable\n",
    "plt.hist(data_25.iso1/data_25.pt1, bins=50, range=(0,1))\n",
    "\n",
    "plt.yscale('log')\n",
    "plt.show()"
   ]
  },
  {
   "cell_type": "code",
   "execution_count": 12,
   "metadata": {},
   "outputs": [
    {
     "data": {
      "image/png": "[encoded data removed]",
      "text/plain": [
       "<matplotlib.figure.Figure at 0x254063f3208>"
      ]
     },
     "metadata": {},
     "output_type": "display_data"
    }
   ],
   "source": [
    "#check the impact parameter\n",
    "plt.hist(data_25.dxy1, bins=50, range=(-0.25,0.25))\n",
    "plt.show()"
   ]
  },
  {
   "cell_type": "code",
   "execution_count": 13,
   "metadata": {},
   "outputs": [
    {
     "data": {
      "image/png": "[encoded data removed]",
      "text/plain": [
       "<matplotlib.figure.Figure at 0x25405fd0438>"
      ]
     },
     "metadata": {},
     "output_type": "display_data"
    }
   ],
   "source": [
    "#check the quality of the track fit\n",
    "plt.hist(data_25.chisq1, bins=50, range=(0,20))\n",
    "plt.yscale('log')\n",
    "\n",
    "plt.show()"
   ]
  },
  {
   "cell_type": "code",
   "execution_count": 14,
   "metadata": {},
   "outputs": [],
   "source": [
    "#make an alternative selection based on these criteria (without the requirement on missing et)\n",
    "select = data_25[(data_25.chisq1 < 10) & (data_25.dxy1 < 0.2) & (data_25.iso1/data_25.pt1 < 0.1)]"
   ]
  },
  {
   "cell_type": "code",
   "execution_count": 15,
   "metadata": {},
   "outputs": [
    {
     "data": {
      "text/plain": [
       "73041"
      ]
     },
     "execution_count": 15,
     "metadata": {},
     "output_type": "execute_result"
    }
   ],
   "source": [
    "len(select)"
   ]
  },
  {
   "cell_type": "code",
   "execution_count": 16,
   "metadata": {
    "collapsed": true
   },
   "outputs": [],
   "source": [
    "mass_s = np.sqrt(2*select.pt1*select.met_et*(1-np.cos(select.phi1-select.met_phi)))"
   ]
  },
  {
   "cell_type": "code",
   "execution_count": 17,
   "metadata": {},
   "outputs": [
    {
     "data": {
      "image/png": "[encoded data removed]",
      "text/plain": [
       "<matplotlib.figure.Figure at 0x254008e0c18>"
      ]
     },
     "metadata": {},
     "output_type": "display_data"
    }
   ],
   "source": [
    "#compare the two selections\n",
    "plt.hist(mass_met, bins=50, alpha=0.5, label='Met selection', range=(30,100))\n",
    "\n",
    "plt.hist(mass_s, bins=50, alpha=0.5, label='Track quality selection', range=(30,100))\n",
    "plt.legend()\n",
    "plt.show()"
   ]
  },
  {
   "cell_type": "code",
   "execution_count": null,
   "metadata": {
    "collapsed": true
   },
   "outputs": [],
   "source": []
  },
  {
   "cell_type": "code",
   "execution_count": null,
   "metadata": {
    "collapsed": true
   },
   "outputs": [],
   "source": []
  }
 ],
 "metadata": {
  "kernelspec": {
   "display_name": "Python 3",
   "language": "python",
   "name": "python3"
  },
  "language_info": {
   "codemirror_mode": {
    "name": "ipython",
    "version": 3
   },
   "file_extension": ".py",
   "mimetype": "text/x-python",
   "name": "python",
   "nbconvert_exporter": "python",
   "pygments_lexer": "ipython3",
   "version": "3.6.0"
  }
 },
 "nbformat": 4,
 "nbformat_minor": 2
}
